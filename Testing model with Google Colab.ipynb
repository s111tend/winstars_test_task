{
 "cells": [
  {
   "cell_type": "markdown",
   "metadata": {
    "id": "ibT_n_HymBi5"
   },
   "source": [
    "# Model testing"
   ]
  },
  {
   "cell_type": "markdown",
   "metadata": {
    "id": "oqfVG0x3P8kz"
   },
   "source": [
    "Installing kaggle:"
   ]
  },
  {
   "cell_type": "code",
   "execution_count": 1,
   "metadata": {
    "colab": {
     "base_uri": "https://localhost:8080/"
    },
    "id": "T4VX6P38lnq0",
    "outputId": "0450bde1-226e-496f-d248-8338ddfb5ee7"
   },
   "outputs": [
    {
     "name": "stdout",
     "output_type": "stream",
     "text": [
      "Requirement already satisfied: kaggle in /usr/local/lib/python3.10/dist-packages (1.5.16)\n",
      "Requirement already satisfied: six>=1.10 in /usr/local/lib/python3.10/dist-packages (from kaggle) (1.16.0)\n",
      "Requirement already satisfied: certifi in /usr/local/lib/python3.10/dist-packages (from kaggle) (2023.7.22)\n",
      "Requirement already satisfied: python-dateutil in /usr/local/lib/python3.10/dist-packages (from kaggle) (2.8.2)\n",
      "Requirement already satisfied: requests in /usr/local/lib/python3.10/dist-packages (from kaggle) (2.31.0)\n",
      "Requirement already satisfied: tqdm in /usr/local/lib/python3.10/dist-packages (from kaggle) (4.66.1)\n",
      "Requirement already satisfied: python-slugify in /usr/local/lib/python3.10/dist-packages (from kaggle) (8.0.1)\n",
      "Requirement already satisfied: urllib3 in /usr/local/lib/python3.10/dist-packages (from kaggle) (2.0.7)\n",
      "Requirement already satisfied: bleach in /usr/local/lib/python3.10/dist-packages (from kaggle) (6.1.0)\n",
      "Requirement already satisfied: webencodings in /usr/local/lib/python3.10/dist-packages (from bleach->kaggle) (0.5.1)\n",
      "Requirement already satisfied: text-unidecode>=1.3 in /usr/local/lib/python3.10/dist-packages (from python-slugify->kaggle) (1.3)\n",
      "Requirement already satisfied: charset-normalizer<4,>=2 in /usr/local/lib/python3.10/dist-packages (from requests->kaggle) (3.3.2)\n",
      "Requirement already satisfied: idna<4,>=2.5 in /usr/local/lib/python3.10/dist-packages (from requests->kaggle) (3.4)\n"
     ]
    }
   ],
   "source": [
    "!pip install kaggle"
   ]
  },
  {
   "cell_type": "markdown",
   "metadata": {
    "id": "92yQL3cPP9Jy"
   },
   "source": [
    "Connecting to the google drive:"
   ]
  },
  {
   "cell_type": "code",
   "execution_count": 2,
   "metadata": {
    "colab": {
     "base_uri": "https://localhost:8080/"
    },
    "id": "kxshdnGdmOFB",
    "outputId": "993ede54-0c15-47bb-b71b-d10ceeaee52a"
   },
   "outputs": [
    {
     "name": "stdout",
     "output_type": "stream",
     "text": [
      "Mounted at /content/drive\n"
     ]
    }
   ],
   "source": [
    "from google.colab import drive\n",
    "drive.mount('/content/drive')"
   ]
  },
  {
   "cell_type": "markdown",
   "metadata": {
    "id": "KbdtcmCgP9uc"
   },
   "source": [
    "Downloading and unpacking the dataset:"
   ]
  },
  {
   "cell_type": "code",
   "execution_count": 3,
   "metadata": {
    "id": "8uwGBAnnmQb-"
   },
   "outputs": [],
   "source": [
    "! mkdir ~/.kaggle"
   ]
  },
  {
   "cell_type": "code",
   "execution_count": 4,
   "metadata": {
    "id": "tvWlOu_Mmxvl"
   },
   "outputs": [],
   "source": [
    "!cp /content/drive/MyDrive/ColabNotebooks/kaggle_api/kaggle.json ~/.kaggle/kaggle.json"
   ]
  },
  {
   "cell_type": "code",
   "execution_count": 5,
   "metadata": {
    "id": "N2K_p-CNm0cY"
   },
   "outputs": [],
   "source": [
    "! chmod 600 ~/.kaggle/kaggle.json"
   ]
  },
  {
   "cell_type": "code",
   "execution_count": 6,
   "metadata": {
    "colab": {
     "base_uri": "https://localhost:8080/"
    },
    "id": "Avi8_mC4m25d",
    "outputId": "d1afb08f-f9e6-4e2b-db09-9f8391e95ca4"
   },
   "outputs": [
    {
     "name": "stdout",
     "output_type": "stream",
     "text": [
      "Downloading airbus-ship-detection.zip to /content\n",
      "100% 28.6G/28.6G [01:57<00:00, 295MB/s]\n",
      "100% 28.6G/28.6G [01:57<00:00, 261MB/s]\n"
     ]
    }
   ],
   "source": [
    "! kaggle competitions download airbus-ship-detection"
   ]
  },
  {
   "cell_type": "code",
   "execution_count": null,
   "metadata": {
    "colab": {
     "base_uri": "https://localhost:8080/"
    },
    "id": "ECaZ2INYm9HJ",
    "outputId": "e7a075fd-6e71-4b90-adfa-75db77867032"
   },
   "outputs": [],
   "source": [
    "! unzip airbus-ship-detection.zip"
   ]
  },
  {
   "cell_type": "markdown",
   "metadata": {
    "id": "8hCAKAWrQAfm"
   },
   "source": [
    "Importing libraries:"
   ]
  },
  {
   "cell_type": "code",
   "execution_count": 8,
   "metadata": {
    "id": "68mTCQzNn_Ds"
   },
   "outputs": [],
   "source": [
    "import tensorflow as tf\n",
    "import numpy as np\n",
    "import pandas as pd\n",
    "import matplotlib as plt\n",
    "from tqdm import tqdm\n",
    "import os\n",
    "from skimage.io import imread\n",
    "from skimage.transform import resize"
   ]
  },
  {
   "cell_type": "markdown",
   "metadata": {
    "id": "LjFx0hwyQA9x"
   },
   "source": [
    "Defining Unet class:"
   ]
  },
  {
   "cell_type": "code",
   "execution_count": 9,
   "metadata": {
    "id": "GFJMFqehplfd"
   },
   "outputs": [],
   "source": [
    "class Unet:\n",
    "    def __init__(self, image_height=768, image_width=768, image_channels=3):\n",
    "        print(\"Initializing vars for U-net model...\")\n",
    "        self.im_height = image_height\n",
    "        self.im_width = image_width\n",
    "        self.im_channels = image_channels\n",
    "        print(\"Done!\")\n",
    "\n",
    "    def get_model(self):\n",
    "        inputs = tf.keras.layers.Input(shape = (self.im_height, self.im_width, self.im_channels)) #define inputs\n",
    "        s = tf.keras.layers.Lambda(lambda x: x / 255)(inputs) #normalize it\n",
    "\n",
    "        # Contraction path\n",
    "        c1 = tf.keras.layers.Conv2D(16, (3, 3), activation='relu', kernel_initializer='he_normal', padding='same')(s) #convolutional layer\n",
    "        c1 = tf.keras.layers.Dropout(0.1)(c1) #dropout layer\n",
    "        c1 = tf.keras.layers.Conv2D(16, (3, 3), activation='relu', kernel_initializer='he_normal', padding='same')(c1) #convolutional layer\n",
    "        p1 = tf.keras.layers.MaxPooling2D((2, 2))(c1) #max pooling layer\n",
    "\n",
    "        c2 = tf.keras.layers.Conv2D(32, (3, 3), activation='relu', kernel_initializer='he_normal', padding='same')(p1) #convolutional layer\n",
    "        c2 = tf.keras.layers.Dropout(0.1)(c2) #dropout layer\n",
    "        c2 = tf.keras.layers.Conv2D(32, (3, 3), activation='relu', kernel_initializer='he_normal', padding='same')(c2) #convolutional layer\n",
    "        p2 = tf.keras.layers.MaxPooling2D((2, 2))(c2) #max pooling layer\n",
    "\n",
    "        c3 = tf.keras.layers.Conv2D(64, (3, 3), activation='relu', kernel_initializer='he_normal', padding='same')(p2) #convolutional layer\n",
    "        c3 = tf.keras.layers.Dropout(0.2)(c3) #dropout layer\n",
    "        c3 = tf.keras.layers.Conv2D(64, (3, 3), activation='relu', kernel_initializer='he_normal', padding='same')(c3) #convolutional layer\n",
    "        p3 = tf.keras.layers.MaxPooling2D((2, 2))(c3) #max pooling layer\n",
    "\n",
    "        c4 = tf.keras.layers.Conv2D(128, (3, 3), activation='relu', kernel_initializer='he_normal', padding='same')(p3) #convolutional layer\n",
    "        c4 = tf.keras.layers.Dropout(0.2)(c4) #dropout layer\n",
    "        c4 = tf.keras.layers.Conv2D(128, (3, 3), activation='relu', kernel_initializer='he_normal', padding='same')(c4) #convolutional layer\n",
    "        p4 = tf.keras.layers.MaxPooling2D(pool_size=(2, 2))(c4) #max pooling layer\n",
    "\n",
    "        c5 = tf.keras.layers.Conv2D(256, (3, 3), activation='relu', kernel_initializer='he_normal', padding='same')(p4) #convolutional layer\n",
    "        c5 = tf.keras.layers.Dropout(0.3)(c5) #dropout layer\n",
    "        c5 = tf.keras.layers.Conv2D(256, (3, 3), activation='relu', kernel_initializer='he_normal', padding='same')(c5) #convolutional layer\n",
    "\n",
    "        # Expansive path\n",
    "        u6 = tf.keras.layers.Conv2DTranspose(128, (2, 2), strides=(2, 2), padding='same')(c5) #deconvolutional layer\n",
    "        u6 = tf.keras.layers.concatenate([u6, c4]) #concatenating\n",
    "        c6 = tf.keras.layers.Conv2D(128, (3, 3), activation='relu', kernel_initializer='he_normal', padding='same')(u6) #convolutional layer\n",
    "        c6 = tf.keras.layers.Dropout(0.2)(c6) #dropout layer\n",
    "        c6 = tf.keras.layers.Conv2D(128, (3, 3), activation='relu', kernel_initializer='he_normal', padding='same')(c6) #convolutional layer\n",
    "\n",
    "        u7 = tf.keras.layers.Conv2DTranspose(64, (2, 2), strides=(2, 2), padding='same')(c6) #deconvolutional layer\n",
    "        u7 = tf.keras.layers.concatenate([u7, c3]) #concatenating\n",
    "        c7 = tf.keras.layers.Conv2D(64, (3, 3), activation='relu', kernel_initializer='he_normal', padding='same')(u7) #convolutional layer\n",
    "        c7 = tf.keras.layers.Dropout(0.2)(c7) #dropout layer\n",
    "        c7 = tf.keras.layers.Conv2D(64, (3, 3), activation='relu', kernel_initializer='he_normal', padding='same')(c7) #convolutional layer\n",
    "\n",
    "        u8 = tf.keras.layers.Conv2DTranspose(32, (2, 2), strides=(2, 2), padding='same')(c7) #deconvolutional layer\n",
    "        u8 = tf.keras.layers.concatenate([u8, c2]) #concatenating\n",
    "        c8 = tf.keras.layers.Conv2D(32, (3, 3), activation='relu', kernel_initializer='he_normal', padding='same')(u8) #convolutional layer\n",
    "        c8 = tf.keras.layers.Dropout(0.1)(c8) #dropout layer\n",
    "        c8 = tf.keras.layers.Conv2D(32, (3, 3), activation='relu', kernel_initializer='he_normal', padding='same')(c8) #convolutional layer\n",
    "\n",
    "        u9 = tf.keras.layers.Conv2DTranspose(16, (2, 2), strides=(2, 2), padding='same')(c8) #deconvolutional layer\n",
    "        u9 = tf.keras.layers.concatenate([u9, c1], axis=3) #concatenating\n",
    "        c9 = tf.keras.layers.Conv2D(16, (3, 3), activation='relu', kernel_initializer='he_normal', padding='same')(u9) #convolutional layer\n",
    "        c9 = tf.keras.layers.Dropout(0.1)(c9) #dropout layer\n",
    "        c9 = tf.keras.layers.Conv2D(16, (3, 3), activation='relu', kernel_initializer='he_normal', padding='same')(c9) #convolutional layer\n",
    "\n",
    "        outputs = tf.keras.layers.Conv2D(1, (1, 1), activation='sigmoid')(c9) #define outputs with final convolutional layer\n",
    "        model = tf.keras.Model(inputs=[inputs], outputs=[outputs]) #initialize model\n",
    "\n",
    "        return model"
   ]
  },
  {
   "cell_type": "markdown",
   "metadata": {
    "id": "GtpCi63_QCBs"
   },
   "source": [
    "Defining functions for work with data. According to the task condition, in the submission file the image indexes should go in a strictly defined order. Therefore, I have slightly modified the function of preparing the test dataset, and now it should be passed a list of image names from the check file as an argument."
   ]
  },
  {
   "cell_type": "code",
   "execution_count": 10,
   "metadata": {
    "id": "bqy1pkzapp6S"
   },
   "outputs": [],
   "source": [
    "# Function that encode a mask into pixel sequence\n",
    "def encode_pixels(mask, threshold=0.5, image_size=(768, 768)):\n",
    "    image_length = image_size[0]*image_size[1] #define image length in pixels\n",
    "    row = (mask > threshold).astype(np.uint8).transpose().reshape(image_length) #use threshold, transpose and reshape to the mask\n",
    "\n",
    "    pixel_sequence = '' #define empty string for encoded pixels\n",
    "    counter = 0 #define counter variable\n",
    "\n",
    "    for k, v in enumerate(row): #enumerate row\n",
    "        if v == 1:\n",
    "            #if value of pixel = 1 and counter = 0 add index of pixel to pixel_sequence\n",
    "            if counter == 0:\n",
    "                pixel_sequence += str(k)\n",
    "\n",
    "            counter += 1 #increment counter\n",
    "\n",
    "            #if value = 1 and it is the last pixel of image add '1' to pixel_sequence\n",
    "            if k == image_length - 1:\n",
    "                pixel_sequence += \" 1 \"\n",
    "        else:\n",
    "            #if value = 0 and counter != 0 add number of not-0 pixels to pixel_sequence and set counter to 0\n",
    "            if counter != 0:\n",
    "                pixel_sequence += f\" {counter} \"\n",
    "                counter = 0\n",
    "\n",
    "    return pixel_sequence[:-1] #return pixel_sequence without last space symbol (' ')\n",
    "\n",
    "# Function that prepare test dataset for testing a model\n",
    "def prepare_test_dataset (test_images_path, test_images_titles, image_shape=(768, 768, 3), test_size=-1, start_=0, preprocessing_function=None):\n",
    "    try:\n",
    "        #if test_size is positive int value, create an array of test images titles\n",
    "        if test_size > 0:\n",
    "            test_images_titles = test_images_titles[start_:start_ + test_size]\n",
    "    except:\n",
    "        print(\"Incorrect values for dataset or images paths in 'prepare_test_datasets' function!\")\n",
    "        return 0\n",
    "\n",
    "    X = np.zeros((len(test_images_titles), image_shape[0], image_shape[1], image_shape[2]), dtype=np.uint8) #create empty array for X\n",
    "\n",
    "    for i, image_title in tqdm(enumerate(test_images_titles)): #enumerate titles of test images\n",
    "        img = imread(test_images_path + \"/\" + str(image_title))[:, :, :image_shape[2]] #read image\n",
    "        #if shapes are different, resize it\n",
    "        if img.shape != image_shape:\n",
    "            img = resize(img, (image_shape[0], image_shape[1]), mode='constant', preserve_range=True)\n",
    "        #if any preprocessing function was defined, apply it on image\n",
    "        if preprocessing_function != None:\n",
    "            img = preprocessing_function(img)\n",
    "\n",
    "        X[i] = img #add image to X array\n",
    "\n",
    "    return X"
   ]
  },
  {
   "cell_type": "markdown",
   "metadata": {
    "id": "O1QndswrQDM_"
   },
   "source": [
    "Defining variables:"
   ]
  },
  {
   "cell_type": "code",
   "execution_count": 11,
   "metadata": {
    "id": "32ny18wCqA2v"
   },
   "outputs": [],
   "source": [
    "IMAGE_WIDTH = 768 #image width\n",
    "IMAGE_HEIGHT = 768 #image height\n",
    "IMAGE_CHANNELS = 3 #image depth\n",
    "TEST_IMAGES_PATH = 'test_v2' #path to folder with images for model testing\n",
    "MODELS_PATH = 'models' #path to folder with saved weights for models\n",
    "RESULTS_PATH = 'results' #path to folder where we save results\n",
    "\n",
    "WEIGHTS_FILE_TITLE = 'model_weights_1.h5'\n",
    "SUBMISSIONS_FILE_NAME = 'submissions.csv'\n",
    "\n",
    "batches = [\n",
    "    [0, 1000],\n",
    "    [1000, 1000],\n",
    "    [2000, 1000],\n",
    "    [3000, 1000],\n",
    "    [4000, 1000],\n",
    "    [5000, 1000],\n",
    "    [6000, 1000],\n",
    "    [7000, 1000],\n",
    "    [8000, 1000],\n",
    "    [9000, 1000],\n",
    "    [10000, 1000],\n",
    "    [11000, 1000],\n",
    "    [12000, 1000],\n",
    "    [13000, 1000],\n",
    "    [14000, 1000],\n",
    "    [15000, 606]\n",
    "]\n",
    "#batches=[[0, 5], [5, 5]]"
   ]
  },
  {
   "cell_type": "markdown",
   "metadata": {
    "id": "idB_OEK_QEIT"
   },
   "source": [
    "Creating submission file:"
   ]
  },
  {
   "cell_type": "code",
   "execution_count": 12,
   "metadata": {
    "colab": {
     "base_uri": "https://localhost:8080/"
    },
    "id": "aDgVmvXPqql1",
    "outputId": "98064137-e389-477c-83d3-340c4e370c91"
   },
   "outputs": [
    {
     "metadata": {
      "tags": null
     },
     "name": "stdout",
     "output_type": "stream",
     "text": [
      "Initializing model...\n",
      "Initializing vars for U-net model...\n",
      "Done!\n",
      "Done!\n",
      "Preparing test dataset...\n"
     ]
    },
    {
     "metadata": {
      "tags": null
     },
     "name": "stderr",
     "output_type": "stream",
     "text": [
      "1000it [00:07, 135.05it/s]\n"
     ]
    },
    {
     "metadata": {
      "tags": null
     },
     "name": "stdout",
     "output_type": "stream",
     "text": [
      "Done!\n",
      "Predicting values for test dataset...\n",
      "32/32 [==============================] - 432s 14s/step\n",
      "Done!\n",
      "Preparing predicted values...\n"
     ]
    },
    {
     "metadata": {
      "tags": null
     },
     "name": "stderr",
     "output_type": "stream",
     "text": [
      "100%|██████████| 1000/1000 [15:40<00:00,  1.06it/s]\n"
     ]
    },
    {
     "metadata": {
      "tags": null
     },
     "name": "stdout",
     "output_type": "stream",
     "text": [
      "Done!\n",
      "Preparing test dataset...\n"
     ]
    },
    {
     "metadata": {
      "tags": null
     },
     "name": "stderr",
     "output_type": "stream",
     "text": [
      "1000it [00:10, 97.65it/s]\n"
     ]
    },
    {
     "metadata": {
      "tags": null
     },
     "name": "stdout",
     "output_type": "stream",
     "text": [
      "Done!\n",
      "Predicting values for test dataset...\n",
      "32/32 [==============================] - 427s 13s/step\n",
      "Done!\n",
      "Preparing predicted values...\n"
     ]
    },
    {
     "metadata": {
      "tags": null
     },
     "name": "stderr",
     "output_type": "stream",
     "text": [
      "100%|██████████| 1000/1000 [15:45<00:00,  1.06it/s]\n"
     ]
    },
    {
     "metadata": {
      "tags": null
     },
     "name": "stdout",
     "output_type": "stream",
     "text": [
      "Done!\n",
      "Preparing test dataset...\n"
     ]
    },
    {
     "metadata": {
      "tags": null
     },
     "name": "stderr",
     "output_type": "stream",
     "text": [
      "1000it [00:09, 108.25it/s]\n"
     ]
    },
    {
     "metadata": {
      "tags": null
     },
     "name": "stdout",
     "output_type": "stream",
     "text": [
      "Done!\n",
      "Predicting values for test dataset...\n",
      "32/32 [==============================] - 433s 14s/step\n",
      "Done!\n",
      "Preparing predicted values...\n"
     ]
    },
    {
     "metadata": {
      "tags": null
     },
     "name": "stderr",
     "output_type": "stream",
     "text": [
      "100%|██████████| 1000/1000 [15:52<00:00,  1.05it/s]\n"
     ]
    },
    {
     "metadata": {
      "tags": null
     },
     "name": "stdout",
     "output_type": "stream",
     "text": [
      "Done!\n",
      "Preparing test dataset...\n"
     ]
    },
    {
     "metadata": {
      "tags": null
     },
     "name": "stderr",
     "output_type": "stream",
     "text": [
      "1000it [00:09, 102.19it/s]\n"
     ]
    },
    {
     "metadata": {
      "tags": null
     },
     "name": "stdout",
     "output_type": "stream",
     "text": [
      "Done!\n",
      "Predicting values for test dataset...\n",
      "32/32 [==============================] - 436s 14s/step\n",
      "Done!\n",
      "Preparing predicted values...\n"
     ]
    },
    {
     "metadata": {
      "tags": null
     },
     "name": "stderr",
     "output_type": "stream",
     "text": [
      "100%|██████████| 1000/1000 [15:50<00:00,  1.05it/s]\n"
     ]
    },
    {
     "metadata": {
      "tags": null
     },
     "name": "stdout",
     "output_type": "stream",
     "text": [
      "Done!\n",
      "Preparing test dataset...\n"
     ]
    },
    {
     "metadata": {
      "tags": null
     },
     "name": "stderr",
     "output_type": "stream",
     "text": [
      "1000it [00:09, 106.73it/s]\n"
     ]
    },
    {
     "metadata": {
      "tags": null
     },
     "name": "stdout",
     "output_type": "stream",
     "text": [
      "Done!\n",
      "Predicting values for test dataset...\n",
      "32/32 [==============================] - 399s 12s/step\n",
      "Done!\n",
      "Preparing predicted values...\n"
     ]
    },
    {
     "metadata": {
      "tags": null
     },
     "name": "stderr",
     "output_type": "stream",
     "text": [
      "100%|██████████| 1000/1000 [15:33<00:00,  1.07it/s]\n"
     ]
    },
    {
     "metadata": {
      "tags": null
     },
     "name": "stdout",
     "output_type": "stream",
     "text": [
      "Done!\n",
      "Preparing test dataset...\n"
     ]
    },
    {
     "metadata": {
      "tags": null
     },
     "name": "stderr",
     "output_type": "stream",
     "text": [
      "1000it [00:09, 103.14it/s]\n"
     ]
    },
    {
     "metadata": {
      "tags": null
     },
     "name": "stdout",
     "output_type": "stream",
     "text": [
      "Done!\n",
      "Predicting values for test dataset...\n",
      "32/32 [==============================] - 412s 13s/step\n",
      "Done!\n",
      "Preparing predicted values...\n"
     ]
    },
    {
     "metadata": {
      "tags": null
     },
     "name": "stderr",
     "output_type": "stream",
     "text": [
      "100%|██████████| 1000/1000 [15:17<00:00,  1.09it/s]\n"
     ]
    },
    {
     "metadata": {
      "tags": null
     },
     "name": "stdout",
     "output_type": "stream",
     "text": [
      "Done!\n",
      "Preparing test dataset...\n"
     ]
    },
    {
     "metadata": {
      "tags": null
     },
     "name": "stderr",
     "output_type": "stream",
     "text": [
      "1000it [00:09, 105.59it/s]\n"
     ]
    },
    {
     "metadata": {
      "tags": null
     },
     "name": "stdout",
     "output_type": "stream",
     "text": [
      "Done!\n",
      "Predicting values for test dataset...\n",
      "32/32 [==============================] - 442s 14s/step\n",
      "Done!\n",
      "Preparing predicted values...\n"
     ]
    },
    {
     "metadata": {
      "tags": null
     },
     "name": "stderr",
     "output_type": "stream",
     "text": [
      "100%|██████████| 1000/1000 [15:47<00:00,  1.06it/s]\n"
     ]
    },
    {
     "metadata": {
      "tags": null
     },
     "name": "stdout",
     "output_type": "stream",
     "text": [
      "Done!\n",
      "Preparing test dataset...\n"
     ]
    },
    {
     "metadata": {
      "tags": null
     },
     "name": "stderr",
     "output_type": "stream",
     "text": [
      "1000it [00:09, 102.86it/s]\n"
     ]
    },
    {
     "metadata": {
      "tags": null
     },
     "name": "stdout",
     "output_type": "stream",
     "text": [
      "Done!\n",
      "Predicting values for test dataset...\n",
      "32/32 [==============================] - 431s 13s/step\n",
      "Done!\n",
      "Preparing predicted values...\n"
     ]
    },
    {
     "metadata": {
      "tags": null
     },
     "name": "stderr",
     "output_type": "stream",
     "text": [
      "100%|██████████| 1000/1000 [15:41<00:00,  1.06it/s]\n"
     ]
    },
    {
     "metadata": {
      "tags": null
     },
     "name": "stdout",
     "output_type": "stream",
     "text": [
      "Done!\n",
      "Preparing test dataset...\n"
     ]
    },
    {
     "metadata": {
      "tags": null
     },
     "name": "stderr",
     "output_type": "stream",
     "text": [
      "1000it [00:09, 104.02it/s]\n"
     ]
    },
    {
     "metadata": {
      "tags": null
     },
     "name": "stdout",
     "output_type": "stream",
     "text": [
      "Done!\n",
      "Predicting values for test dataset...\n",
      "32/32 [==============================] - 442s 14s/step\n",
      "Done!\n",
      "Preparing predicted values...\n"
     ]
    },
    {
     "metadata": {
      "tags": null
     },
     "name": "stderr",
     "output_type": "stream",
     "text": [
      "100%|██████████| 1000/1000 [15:37<00:00,  1.07it/s]\n"
     ]
    },
    {
     "metadata": {
      "tags": null
     },
     "name": "stdout",
     "output_type": "stream",
     "text": [
      "Done!\n",
      "Preparing test dataset...\n"
     ]
    },
    {
     "metadata": {
      "tags": null
     },
     "name": "stderr",
     "output_type": "stream",
     "text": [
      "1000it [00:09, 103.24it/s]\n"
     ]
    },
    {
     "metadata": {
      "tags": null
     },
     "name": "stdout",
     "output_type": "stream",
     "text": [
      "Done!\n",
      "Predicting values for test dataset...\n",
      "32/32 [==============================] - 427s 13s/step\n",
      "Done!\n",
      "Preparing predicted values...\n"
     ]
    },
    {
     "metadata": {
      "tags": null
     },
     "name": "stderr",
     "output_type": "stream",
     "text": [
      "100%|██████████| 1000/1000 [15:37<00:00,  1.07it/s]\n"
     ]
    },
    {
     "metadata": {
      "tags": null
     },
     "name": "stdout",
     "output_type": "stream",
     "text": [
      "Done!\n",
      "Preparing test dataset...\n"
     ]
    },
    {
     "metadata": {
      "tags": null
     },
     "name": "stderr",
     "output_type": "stream",
     "text": [
      "1000it [00:09, 101.80it/s]\n"
     ]
    },
    {
     "metadata": {
      "tags": null
     },
     "name": "stdout",
     "output_type": "stream",
     "text": [
      "Done!\n",
      "Predicting values for test dataset...\n",
      "32/32 [==============================] - 431s 13s/step\n",
      "Done!\n",
      "Preparing predicted values...\n"
     ]
    },
    {
     "metadata": {
      "tags": null
     },
     "name": "stderr",
     "output_type": "stream",
     "text": [
      "100%|██████████| 1000/1000 [15:43<00:00,  1.06it/s]\n"
     ]
    },
    {
     "metadata": {
      "tags": null
     },
     "name": "stdout",
     "output_type": "stream",
     "text": [
      "Done!\n",
      "Preparing test dataset...\n"
     ]
    },
    {
     "metadata": {
      "tags": null
     },
     "name": "stderr",
     "output_type": "stream",
     "text": [
      "1000it [00:09, 101.65it/s]\n"
     ]
    },
    {
     "name": "stdout",
     "output_type": "stream",
     "text": [
      "Done!\n",
      "Predicting values for test dataset...\n",
      "32/32 [==============================] - 429s 13s/step\n",
      "Done!\n",
      "Preparing predicted values...\n"
     ]
    },
    {
     "name": "stderr",
     "output_type": "stream",
     "text": [
      "100%|██████████| 1000/1000 [15:48<00:00,  1.05it/s]\n"
     ]
    },
    {
     "name": "stdout",
     "output_type": "stream",
     "text": [
      "Done!\n",
      "Preparing test dataset...\n"
     ]
    },
    {
     "name": "stderr",
     "output_type": "stream",
     "text": [
      "1000it [00:09, 102.24it/s]\n"
     ]
    },
    {
     "name": "stdout",
     "output_type": "stream",
     "text": [
      "Done!\n",
      "Predicting values for test dataset...\n",
      "32/32 [==============================] - 400s 12s/step\n",
      "Done!\n",
      "Preparing predicted values...\n"
     ]
    },
    {
     "name": "stderr",
     "output_type": "stream",
     "text": [
      "100%|██████████| 1000/1000 [15:33<00:00,  1.07it/s]\n"
     ]
    },
    {
     "name": "stdout",
     "output_type": "stream",
     "text": [
      "Done!\n",
      "Preparing test dataset...\n"
     ]
    },
    {
     "name": "stderr",
     "output_type": "stream",
     "text": [
      "1000it [00:10, 98.74it/s]\n"
     ]
    },
    {
     "name": "stdout",
     "output_type": "stream",
     "text": [
      "Done!\n",
      "Predicting values for test dataset...\n",
      "32/32 [==============================] - 392s 12s/step\n",
      "Done!\n",
      "Preparing predicted values...\n"
     ]
    },
    {
     "name": "stderr",
     "output_type": "stream",
     "text": [
      "100%|██████████| 1000/1000 [15:33<00:00,  1.07it/s]\n"
     ]
    },
    {
     "name": "stdout",
     "output_type": "stream",
     "text": [
      "Done!\n",
      "Preparing test dataset...\n"
     ]
    },
    {
     "name": "stderr",
     "output_type": "stream",
     "text": [
      "1000it [00:09, 105.68it/s]\n"
     ]
    },
    {
     "name": "stdout",
     "output_type": "stream",
     "text": [
      "Done!\n",
      "Predicting values for test dataset...\n",
      "32/32 [==============================] - 401s 12s/step\n",
      "Done!\n",
      "Preparing predicted values...\n"
     ]
    },
    {
     "name": "stderr",
     "output_type": "stream",
     "text": [
      "100%|██████████| 1000/1000 [15:25<00:00,  1.08it/s]\n"
     ]
    },
    {
     "name": "stdout",
     "output_type": "stream",
     "text": [
      "Done!\n",
      "Preparing test dataset...\n"
     ]
    },
    {
     "name": "stderr",
     "output_type": "stream",
     "text": [
      "606it [00:05, 105.04it/s]\n"
     ]
    },
    {
     "name": "stdout",
     "output_type": "stream",
     "text": [
      "Done!\n",
      "Predicting values for test dataset...\n",
      "19/19 [==============================] - 242s 13s/step\n",
      "Done!\n",
      "Preparing predicted values...\n"
     ]
    },
    {
     "name": "stderr",
     "output_type": "stream",
     "text": [
      "100%|██████████| 606/606 [09:13<00:00,  1.10it/s]\n"
     ]
    },
    {
     "name": "stdout",
     "output_type": "stream",
     "text": [
      "Done!\n",
      "Generating resulting file... (it will be saved in results folder)\n",
      "Done!\n"
     ]
    }
   ],
   "source": [
    "# - Initialize model\n",
    "print(\"Initializing model...\")\n",
    "unet_nn = Unet(IMAGE_HEIGHT, IMAGE_WIDTH, IMAGE_CHANNELS)\n",
    "model = unet_nn.get_model()\n",
    "model.load_weights(MODELS_PATH + \"/\" + str(WEIGHTS_FILE_TITLE)) #load trained model's weights\n",
    "print(\"Done!\")\n",
    "\n",
    "pixel_sequence_array = [] #create empty array for pixel's sequences\n",
    "image_ids = [] #create empty array for images' ids\n",
    "test_images_titles = pd.read_csv('sample_submission_v2.csv')['ImageId'] #define list of titles of test images\n",
    "\n",
    "for r, t in batches:\n",
    "  # - Prepare test dataset\n",
    "  print(f\"Preparing test dataset...\")\n",
    "  X_test = prepare_test_dataset(\n",
    "      TEST_IMAGES_PATH,\n",
    "      test_images_titles,\n",
    "      image_shape=(IMAGE_HEIGHT, IMAGE_WIDTH, IMAGE_CHANNELS),\n",
    "      test_size=t,\n",
    "      start_=r,\n",
    "      preprocessing_function=None\n",
    "  ) #use function to create test dataset\n",
    "  print(\"Done!\")\n",
    "\n",
    "  # - Generate predictions for test dataset\n",
    "  print(\"Predicting values for test dataset...\")\n",
    "  Y_pred = model.predict(X_test, workers=6) #predict test masks\n",
    "  print(\"Done!\")\n",
    "\n",
    "  # - Prepare predictions:\n",
    "  print(\"Preparing predicted values...\")\n",
    "  for k, v in tqdm(enumerate(Y_pred), total=len(Y_pred)): #for each predicted mask\n",
    "    image_ids.append(test_images_titles[r + k]) #add image id to the array of ids\n",
    "    pixel_sequence_array.append(encode_pixels(v, threshold=0.1)) #use encoding function and add result to the array of pixel sequences\n",
    "  print(\"Done!\")\n",
    "\n",
    "# Creating resulting .csv file\n",
    "print(f\"Generating resulting file... (it will be saved in {RESULTS_PATH} folder)\")\n",
    "predictions = pd.DataFrame({'ImageId': image_ids, 'EncodedPixels': pixel_sequence_array}) #create dataframe of predictions\n",
    "predictions.to_csv(RESULTS_PATH + '/' + SUBMISSIONS_FILE_NAME, index=False) #save resulting dataset to .csv file\n",
    "print(\"Done!\")"
   ]
  },
  {
   "cell_type": "markdown",
   "metadata": {
    "id": "I1TYVWMhQFVM"
   },
   "source": [
    "Seeing resulting file structure:"
   ]
  },
  {
   "cell_type": "code",
   "execution_count": 13,
   "metadata": {
    "colab": {
     "base_uri": "https://localhost:8080/",
     "height": 206
    },
    "id": "NLsgWnRAtk8L",
    "outputId": "4f5cf673-cbe8-4168-be80-e51510d16ff7"
   },
   "outputs": [
    {
     "data": {
      "text/html": [
       "\n",
       "  <div id=\"df-970a7a94-b29e-4fe0-8542-3fd42999d96e\" class=\"colab-df-container\">\n",
       "    <div>\n",
       "<style scoped>\n",
       "    .dataframe tbody tr th:only-of-type {\n",
       "        vertical-align: middle;\n",
       "    }\n",
       "\n",
       "    .dataframe tbody tr th {\n",
       "        vertical-align: top;\n",
       "    }\n",
       "\n",
       "    .dataframe thead th {\n",
       "        text-align: right;\n",
       "    }\n",
       "</style>\n",
       "<table border=\"1\" class=\"dataframe\">\n",
       "  <thead>\n",
       "    <tr style=\"text-align: right;\">\n",
       "      <th></th>\n",
       "      <th>ImageId</th>\n",
       "      <th>EncodedPixels</th>\n",
       "    </tr>\n",
       "  </thead>\n",
       "  <tbody>\n",
       "    <tr>\n",
       "      <th>0</th>\n",
       "      <td>00002bd58.jpg</td>\n",
       "      <td>NaN</td>\n",
       "    </tr>\n",
       "    <tr>\n",
       "      <th>1</th>\n",
       "      <td>00015efb6.jpg</td>\n",
       "      <td>NaN</td>\n",
       "    </tr>\n",
       "    <tr>\n",
       "      <th>2</th>\n",
       "      <td>00023d5fc.jpg</td>\n",
       "      <td>NaN</td>\n",
       "    </tr>\n",
       "    <tr>\n",
       "      <th>3</th>\n",
       "      <td>000367c13.jpg</td>\n",
       "      <td>0 1 89969 1 91505 1 93041 1 98255 1 98257 1 99...</td>\n",
       "    </tr>\n",
       "    <tr>\n",
       "      <th>4</th>\n",
       "      <td>0008ca6e9.jpg</td>\n",
       "      <td>NaN</td>\n",
       "    </tr>\n",
       "  </tbody>\n",
       "</table>\n",
       "</div>\n",
       "    <div class=\"colab-df-buttons\">\n",
       "\n",
       "  <div class=\"colab-df-container\">\n",
       "    <button class=\"colab-df-convert\" onclick=\"convertToInteractive('df-970a7a94-b29e-4fe0-8542-3fd42999d96e')\"\n",
       "            title=\"Convert this dataframe to an interactive table.\"\n",
       "            style=\"display:none;\">\n",
       "\n",
       "  <svg xmlns=\"http://www.w3.org/2000/svg\" height=\"24px\" viewBox=\"0 -960 960 960\">\n",
       "    <path d=\"M120-120v-720h720v720H120Zm60-500h600v-160H180v160Zm220 220h160v-160H400v160Zm0 220h160v-160H400v160ZM180-400h160v-160H180v160Zm440 0h160v-160H620v160ZM180-180h160v-160H180v160Zm440 0h160v-160H620v160Z\"/>\n",
       "  </svg>\n",
       "    </button>\n",
       "\n",
       "  <style>\n",
       "    .colab-df-container {\n",
       "      display:flex;\n",
       "      gap: 12px;\n",
       "    }\n",
       "\n",
       "    .colab-df-convert {\n",
       "      background-color: #E8F0FE;\n",
       "      border: none;\n",
       "      border-radius: 50%;\n",
       "      cursor: pointer;\n",
       "      display: none;\n",
       "      fill: #1967D2;\n",
       "      height: 32px;\n",
       "      padding: 0 0 0 0;\n",
       "      width: 32px;\n",
       "    }\n",
       "\n",
       "    .colab-df-convert:hover {\n",
       "      background-color: #E2EBFA;\n",
       "      box-shadow: 0px 1px 2px rgba(60, 64, 67, 0.3), 0px 1px 3px 1px rgba(60, 64, 67, 0.15);\n",
       "      fill: #174EA6;\n",
       "    }\n",
       "\n",
       "    .colab-df-buttons div {\n",
       "      margin-bottom: 4px;\n",
       "    }\n",
       "\n",
       "    [theme=dark] .colab-df-convert {\n",
       "      background-color: #3B4455;\n",
       "      fill: #D2E3FC;\n",
       "    }\n",
       "\n",
       "    [theme=dark] .colab-df-convert:hover {\n",
       "      background-color: #434B5C;\n",
       "      box-shadow: 0px 1px 3px 1px rgba(0, 0, 0, 0.15);\n",
       "      filter: drop-shadow(0px 1px 2px rgba(0, 0, 0, 0.3));\n",
       "      fill: #FFFFFF;\n",
       "    }\n",
       "  </style>\n",
       "\n",
       "    <script>\n",
       "      const buttonEl =\n",
       "        document.querySelector('#df-970a7a94-b29e-4fe0-8542-3fd42999d96e button.colab-df-convert');\n",
       "      buttonEl.style.display =\n",
       "        google.colab.kernel.accessAllowed ? 'block' : 'none';\n",
       "\n",
       "      async function convertToInteractive(key) {\n",
       "        const element = document.querySelector('#df-970a7a94-b29e-4fe0-8542-3fd42999d96e');\n",
       "        const dataTable =\n",
       "          await google.colab.kernel.invokeFunction('convertToInteractive',\n",
       "                                                    [key], {});\n",
       "        if (!dataTable) return;\n",
       "\n",
       "        const docLinkHtml = 'Like what you see? Visit the ' +\n",
       "          '<a target=\"_blank\" href=https://colab.research.google.com/notebooks/data_table.ipynb>data table notebook</a>'\n",
       "          + ' to learn more about interactive tables.';\n",
       "        element.innerHTML = '';\n",
       "        dataTable['output_type'] = 'display_data';\n",
       "        await google.colab.output.renderOutput(dataTable, element);\n",
       "        const docLink = document.createElement('div');\n",
       "        docLink.innerHTML = docLinkHtml;\n",
       "        element.appendChild(docLink);\n",
       "      }\n",
       "    </script>\n",
       "  </div>\n",
       "\n",
       "\n",
       "<div id=\"df-e7b8ab0a-aa61-4f29-8c2e-587df0901eef\">\n",
       "  <button class=\"colab-df-quickchart\" onclick=\"quickchart('df-e7b8ab0a-aa61-4f29-8c2e-587df0901eef')\"\n",
       "            title=\"Suggest charts\"\n",
       "            style=\"display:none;\">\n",
       "\n",
       "<svg xmlns=\"http://www.w3.org/2000/svg\" height=\"24px\"viewBox=\"0 0 24 24\"\n",
       "     width=\"24px\">\n",
       "    <g>\n",
       "        <path d=\"M19 3H5c-1.1 0-2 .9-2 2v14c0 1.1.9 2 2 2h14c1.1 0 2-.9 2-2V5c0-1.1-.9-2-2-2zM9 17H7v-7h2v7zm4 0h-2V7h2v10zm4 0h-2v-4h2v4z\"/>\n",
       "    </g>\n",
       "</svg>\n",
       "  </button>\n",
       "\n",
       "<style>\n",
       "  .colab-df-quickchart {\n",
       "      --bg-color: #E8F0FE;\n",
       "      --fill-color: #1967D2;\n",
       "      --hover-bg-color: #E2EBFA;\n",
       "      --hover-fill-color: #174EA6;\n",
       "      --disabled-fill-color: #AAA;\n",
       "      --disabled-bg-color: #DDD;\n",
       "  }\n",
       "\n",
       "  [theme=dark] .colab-df-quickchart {\n",
       "      --bg-color: #3B4455;\n",
       "      --fill-color: #D2E3FC;\n",
       "      --hover-bg-color: #434B5C;\n",
       "      --hover-fill-color: #FFFFFF;\n",
       "      --disabled-bg-color: #3B4455;\n",
       "      --disabled-fill-color: #666;\n",
       "  }\n",
       "\n",
       "  .colab-df-quickchart {\n",
       "    background-color: var(--bg-color);\n",
       "    border: none;\n",
       "    border-radius: 50%;\n",
       "    cursor: pointer;\n",
       "    display: none;\n",
       "    fill: var(--fill-color);\n",
       "    height: 32px;\n",
       "    padding: 0;\n",
       "    width: 32px;\n",
       "  }\n",
       "\n",
       "  .colab-df-quickchart:hover {\n",
       "    background-color: var(--hover-bg-color);\n",
       "    box-shadow: 0 1px 2px rgba(60, 64, 67, 0.3), 0 1px 3px 1px rgba(60, 64, 67, 0.15);\n",
       "    fill: var(--button-hover-fill-color);\n",
       "  }\n",
       "\n",
       "  .colab-df-quickchart-complete:disabled,\n",
       "  .colab-df-quickchart-complete:disabled:hover {\n",
       "    background-color: var(--disabled-bg-color);\n",
       "    fill: var(--disabled-fill-color);\n",
       "    box-shadow: none;\n",
       "  }\n",
       "\n",
       "  .colab-df-spinner {\n",
       "    border: 2px solid var(--fill-color);\n",
       "    border-color: transparent;\n",
       "    border-bottom-color: var(--fill-color);\n",
       "    animation:\n",
       "      spin 1s steps(1) infinite;\n",
       "  }\n",
       "\n",
       "  @keyframes spin {\n",
       "    0% {\n",
       "      border-color: transparent;\n",
       "      border-bottom-color: var(--fill-color);\n",
       "      border-left-color: var(--fill-color);\n",
       "    }\n",
       "    20% {\n",
       "      border-color: transparent;\n",
       "      border-left-color: var(--fill-color);\n",
       "      border-top-color: var(--fill-color);\n",
       "    }\n",
       "    30% {\n",
       "      border-color: transparent;\n",
       "      border-left-color: var(--fill-color);\n",
       "      border-top-color: var(--fill-color);\n",
       "      border-right-color: var(--fill-color);\n",
       "    }\n",
       "    40% {\n",
       "      border-color: transparent;\n",
       "      border-right-color: var(--fill-color);\n",
       "      border-top-color: var(--fill-color);\n",
       "    }\n",
       "    60% {\n",
       "      border-color: transparent;\n",
       "      border-right-color: var(--fill-color);\n",
       "    }\n",
       "    80% {\n",
       "      border-color: transparent;\n",
       "      border-right-color: var(--fill-color);\n",
       "      border-bottom-color: var(--fill-color);\n",
       "    }\n",
       "    90% {\n",
       "      border-color: transparent;\n",
       "      border-bottom-color: var(--fill-color);\n",
       "    }\n",
       "  }\n",
       "</style>\n",
       "\n",
       "  <script>\n",
       "    async function quickchart(key) {\n",
       "      const quickchartButtonEl =\n",
       "        document.querySelector('#' + key + ' button');\n",
       "      quickchartButtonEl.disabled = true;  // To prevent multiple clicks.\n",
       "      quickchartButtonEl.classList.add('colab-df-spinner');\n",
       "      try {\n",
       "        const charts = await google.colab.kernel.invokeFunction(\n",
       "            'suggestCharts', [key], {});\n",
       "      } catch (error) {\n",
       "        console.error('Error during call to suggestCharts:', error);\n",
       "      }\n",
       "      quickchartButtonEl.classList.remove('colab-df-spinner');\n",
       "      quickchartButtonEl.classList.add('colab-df-quickchart-complete');\n",
       "    }\n",
       "    (() => {\n",
       "      let quickchartButtonEl =\n",
       "        document.querySelector('#df-e7b8ab0a-aa61-4f29-8c2e-587df0901eef button');\n",
       "      quickchartButtonEl.style.display =\n",
       "        google.colab.kernel.accessAllowed ? 'block' : 'none';\n",
       "    })();\n",
       "  </script>\n",
       "</div>\n",
       "    </div>\n",
       "  </div>\n"
      ],
      "text/plain": [
       "         ImageId                                      EncodedPixels\n",
       "0  00002bd58.jpg                                                NaN\n",
       "1  00015efb6.jpg                                                NaN\n",
       "2  00023d5fc.jpg                                                NaN\n",
       "3  000367c13.jpg  0 1 89969 1 91505 1 93041 1 98255 1 98257 1 99...\n",
       "4  0008ca6e9.jpg                                                NaN"
      ]
     },
     "execution_count": 13,
     "metadata": {},
     "output_type": "execute_result"
    }
   ],
   "source": [
    "result = pd.read_csv(RESULTS_PATH + '/' + SUBMISSIONS_FILE_NAME)\n",
    "result.head()"
   ]
  }
 ],
 "metadata": {
  "colab": {
   "machine_shape": "hm",
   "provenance": []
  },
  "kernelspec": {
   "display_name": "Python 3 (ipykernel)",
   "language": "python",
   "name": "python3"
  },
  "language_info": {
   "codemirror_mode": {
    "name": "ipython",
    "version": 3
   },
   "file_extension": ".py",
   "mimetype": "text/x-python",
   "name": "python",
   "nbconvert_exporter": "python",
   "pygments_lexer": "ipython3",
   "version": "3.10.9"
  }
 },
 "nbformat": 4,
 "nbformat_minor": 1
}
